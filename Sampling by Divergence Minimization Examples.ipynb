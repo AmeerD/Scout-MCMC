{
 "cells": [
  {
   "cell_type": "markdown",
   "metadata": {},
   "source": [
    "## Divergence Minimization Examples"
   ]
  },
  {
   "cell_type": "code",
   "execution_count": null,
   "metadata": {},
   "outputs": [],
   "source": [
    "import autograd.numpy as np\n",
    "from autograd import grad\n",
    "import autograd.scipy.stats as ss\n",
    "import autograd.scipy.linalg as la\n",
    "from matplotlib import pyplot as plt"
   ]
  },
  {
   "cell_type": "code",
   "execution_count": null,
   "metadata": {},
   "outputs": [],
   "source": [
    "from Code.Algorithms.RWM import RWM\n",
    "from Code.Algorithms.AM import aRWM\n",
    "from Code.Algorithms.ScoutMCMC import DMSampler, ScoutMCMC, DMfinite, Scoutfinite\n",
    "from Code.Algorithms.Parallel_Tempering import PTk\n",
    "from Code.Diagnostics.VisTools import plotsamples, animatesamples, animatecontours\n",
    "from Code.Diagnostics.ESS import mESS, uESS\n",
    "from Code.Diagnostics.ESJD import esjd\n",
    "from Code.Targets.Examples import u3, u4, u5, u7, u8"
   ]
  },
  {
   "cell_type": "markdown",
   "metadata": {},
   "source": [
    "### Banana"
   ]
  },
  {
   "cell_type": "code",
   "execution_count": null,
   "metadata": {},
   "outputs": [],
   "source": [
    "np.random.seed(1234)"
   ]
  },
  {
   "cell_type": "code",
   "execution_count": null,
   "metadata": {},
   "outputs": [],
   "source": [
    "plotsamples([-10,10],[-50,10], u3, np.empty((0,2)), np.array([0,0]), \"Banana Contours\", lin=1000)"
   ]
  },
  {
   "cell_type": "code",
   "execution_count": null,
   "metadata": {},
   "outputs": [],
   "source": [
    "start3 = np.array([np.random.uniform(low=-5, high=5, size=1)[0], \n",
    "                   np.random.uniform(low=-5, high=5, size=1)[0]])\n",
    "s31 = RWM(u3, 1, start3, 30000, 1000)\n",
    "plotsamples([-10,10],[-50,10], u3, s31, start3, \"RWM Samples\", lin=1000)"
   ]
  },
  {
   "cell_type": "code",
   "execution_count": null,
   "metadata": {},
   "outputs": [],
   "source": [
    "s32 = aRWM(u3, 0.05, start3, 30000, 1000)\n",
    "plotsamples([-10,10],[-50,10], u3, s32, start3, \"aRWM Samples\", lin=1000)"
   ]
  },
  {
   "cell_type": "code",
   "execution_count": null,
   "metadata": {},
   "outputs": [],
   "source": [
    "s33, c33 = DMSampler(u3, 0.95, start3, 30000, 1000, 0.003, 1)\n",
    "plotsamples([-10,10],[-50,10], u3, s33, start3, \"DM Samples\", lin=1000)"
   ]
  },
  {
   "cell_type": "code",
   "execution_count": null,
   "metadata": {},
   "outputs": [],
   "source": [
    "idx = np.random.randint(15000-1, size=1000)\n",
    "f33f = DMfinite(u3, s33[idx,:], c33[idx,:], s33[-1,:], 15000)\n",
    "f33 = np.vstack((s33[0:15000-1],f33f))\n",
    "plotsamples([-10,10],[-60,10], u3, f33, start3, \"DM Finite Samples\", lin=1000)"
   ]
  },
  {
   "cell_type": "code",
   "execution_count": null,
   "metadata": {},
   "outputs": [],
   "source": [
    "s34, c34, sc34 = ScoutMCMC(u3, 0.2, start3, 30000, 1000, 0.002, 2, ssigma = 9)\n",
    "plotsamples([-10,10],[-60,10], u3, s34, start3, \"Scout Samples\", lin=1000)"
   ]
  },
  {
   "cell_type": "code",
   "execution_count": null,
   "metadata": {},
   "outputs": [],
   "source": [
    "idx = np.random.randint(15000-1, size=1000)\n",
    "f34f = Scoutfinite(u3, s34[idx,:], c34[idx,:], s34[-1,:], 15000, ssigma = 9)\n",
    "f34 = np.vstack((s34[0:15000-1],f34f))\n",
    "plotsamples([-10,10],[-60,10], u3, f34, s34[-1,:], \"Scout Finite Samples\", lin=1000)"
   ]
  },
  {
   "cell_type": "code",
   "execution_count": null,
   "metadata": {},
   "outputs": [],
   "source": [
    "print(\"RWM:\", np.mean(s31, axis=0))\n",
    "print(\"Adaptive RWM:\", np.mean(s32, axis=0))\n",
    "print(\"DM Sampler:\", np.mean(s33, axis=0))\n",
    "print(\"DM Finite:\", np.mean(f33, axis=0))\n",
    "print(\"Scout MCMC:\", np.mean(s34, axis=0))\n",
    "print(\"Scout Finite:\", np.mean(f34, axis=0))"
   ]
  },
  {
   "cell_type": "code",
   "execution_count": null,
   "metadata": {},
   "outputs": [],
   "source": [
    "print(\"RWM:\", esjd(s31))\n",
    "print(\"Adaptive RWM:\", esjd(s32))\n",
    "print(\"DM Sampler:\", esjd(s33))\n",
    "print(\"DM Finite:\", esjd(f33))\n",
    "print(\"Scout MCMC:\", esjd(s34))\n",
    "print(\"Scout Finite:\", esjd(f34))"
   ]
  },
  {
   "cell_type": "code",
   "execution_count": null,
   "metadata": {},
   "outputs": [],
   "source": [
    "np.savez(\"Banana Samples.npz\", s31=s31, s32=s32, s33=s33, f33=f33, s34=f34, f34=f34)"
   ]
  },
  {
   "cell_type": "markdown",
   "metadata": {},
   "source": [
    "### Double Banana"
   ]
  },
  {
   "cell_type": "code",
   "execution_count": null,
   "metadata": {},
   "outputs": [],
   "source": [
    "np.random.seed(1234)"
   ]
  },
  {
   "cell_type": "code",
   "execution_count": null,
   "metadata": {
    "scrolled": true
   },
   "outputs": [],
   "source": [
    "plotsamples([-10,10],[-60,10], u4, np.empty((0,2)), np.array([0,0]), \"Double Banana Contours\", lin=1000)"
   ]
  },
  {
   "cell_type": "code",
   "execution_count": null,
   "metadata": {},
   "outputs": [],
   "source": [
    "start4 = np.array([np.random.uniform(low=-5, high=5, size=1)[0], \n",
    "                   np.random.uniform(low=-5, high=5, size=1)[0]])\n",
    "s41 = RWM(u4, 1, start4, 50000, 1000)\n",
    "plotsamples([-10,10],[-60,10], u4, s41, start4, \"RWM Samples\", lin=1000)"
   ]
  },
  {
   "cell_type": "code",
   "execution_count": null,
   "metadata": {},
   "outputs": [],
   "source": [
    "s42 = aRWM(u4, 0.05, start4, 50000, 1000)\n",
    "plotsamples([-10,10],[-60,10], u4, s42, start4, \"aRWM Samples\", lin=1000)"
   ]
  },
  {
   "cell_type": "code",
   "execution_count": null,
   "metadata": {},
   "outputs": [],
   "source": [
    "s43, c43 = DMSampler(u4, 0.2, start4, 50000, 1000, 0.002, 2)\n",
    "plotsamples([-10,10],[-60,10], u4, s43, start4, \"DM Samples\", lin=1000)"
   ]
  },
  {
   "cell_type": "code",
   "execution_count": null,
   "metadata": {},
   "outputs": [],
   "source": [
    "idx = np.random.randint(30000-1, size=1000)\n",
    "f43f = DMfinite(u4, s43[idx,:], c43[idx,:], s43[-1,:], 20000)\n",
    "f43 = np.vstack((s43[0:30000-1],f43f))\n",
    "plotsamples([-10,10],[-60,10], u4, f43, start4, \"DM Finite Samples\", lin=1000)"
   ]
  },
  {
   "cell_type": "code",
   "execution_count": null,
   "metadata": {
    "scrolled": false
   },
   "outputs": [],
   "source": [
    "s44, c44, sc44 = ScoutMCMC(u4, 0.2, start4, 50000, 1000, 0.002, 2, ssigma = 9)\n",
    "plotsamples([-10,10],[-60,10], u4, s44, start4, \"Scout Samples\", lin=1000)"
   ]
  },
  {
   "cell_type": "code",
   "execution_count": null,
   "metadata": {},
   "outputs": [],
   "source": [
    "idx = np.random.randint(30000-1, size=1000)\n",
    "f44f = Scoutfinite(u4, s44[idx,:], c44[idx,:], s44[-1,:], 20000, ssigma = 9)\n",
    "f44 = np.vstack((s44[0:30000-1],f44f))\n",
    "plotsamples([-10,10],[-60,10], u4, f44, start4, \"Scout Finite Samples\", lin=1000)"
   ]
  },
  {
   "cell_type": "code",
   "execution_count": null,
   "metadata": {},
   "outputs": [],
   "source": [
    "s45 = PTk(u4, start4, 50000, 1000, sigma=1, k=5)\n",
    "plotsamples([-10,10],[-60,10], u4, s46, start4, \"Parallel Tempering (5 Chains) Samples\", lin=1000)"
   ]
  },
  {
   "cell_type": "code",
   "execution_count": null,
   "metadata": {},
   "outputs": [],
   "source": [
    "s46 = PTk(u4, start4, 50000, 1000, sigma=1, k=2)\n",
    "plotsamples([-10,10],[-60,10], u4, s46, start4, \"Parallel Tempering (2 Chains) Samples\", lin=1000)"
   ]
  },
  {
   "cell_type": "code",
   "execution_count": null,
   "metadata": {},
   "outputs": [],
   "source": [
    "print(\"RWM:\", np.mean(s41, axis=0))\n",
    "print(\"Adaptive RWM:\", np.mean(s42, axis=0))\n",
    "print(\"DM Sampler:\", np.mean(s43, axis=0))\n",
    "print(\"DM Finite:\", np.mean(f43, axis=0))\n",
    "print(\"Scout MCMC:\", np.mean(s44, axis=0))\n",
    "print(\"Scout Finite:\", np.mean(f44, axis=0))\n",
    "print(\"Parallel Tempering (5 chains):\", np.mean(s45, axis=0))\n",
    "print(\"Parallel Tempering (2 chains):\", np.mean(s46, axis=0))"
   ]
  },
  {
   "cell_type": "code",
   "execution_count": null,
   "metadata": {},
   "outputs": [],
   "source": [
    "print(\"RWM:\", esjd(s41))\n",
    "print(\"Adaptive RWM:\", esjd(s42))\n",
    "print(\"DM Sampler:\", esjd(s43))\n",
    "print(\"DM Finite:\", esjd(f43))\n",
    "print(\"Scout MCMC:\", esjd(s44))\n",
    "print(\"Scout Finite:\", esjd(f44))\n",
    "print(\"Parallel Tempering (5 chains):\", esjd(s45))\n",
    "print(\"Parallel Tempering (2 chains):\", esjd(s46))"
   ]
  },
  {
   "cell_type": "code",
   "execution_count": null,
   "metadata": {},
   "outputs": [],
   "source": [
    "np.savez(\"Double Banana Samples.npz\", s41=s41, s42=s42, s43=s43, f43=f43, s44=f44, f44=f44, s45=s45, s46=s46)"
   ]
  },
  {
   "cell_type": "markdown",
   "metadata": {},
   "source": [
    "### 4D Basis Vectors"
   ]
  },
  {
   "cell_type": "code",
   "execution_count": null,
   "metadata": {},
   "outputs": [],
   "source": [
    "np.random.seed(1234)"
   ]
  },
  {
   "cell_type": "code",
   "execution_count": null,
   "metadata": {},
   "outputs": [],
   "source": [
    "start5 = np.array([np.random.uniform(low=-5, high=5, size=1)[0], \n",
    "                   np.random.uniform(low=-5, high=5, size=1)[0],\n",
    "                   np.random.uniform(low=-5, high=5, size=1)[0],\n",
    "                   np.random.uniform(low=-5, high=5, size=1)[0],])\n",
    "s51 = RWM(u5, 1, start5, 40000, 2000)"
   ]
  },
  {
   "cell_type": "code",
   "execution_count": null,
   "metadata": {},
   "outputs": [],
   "source": [
    "s52 = aRWM(u5, 0.05, start5, 40000, 2000)"
   ]
  },
  {
   "cell_type": "code",
   "execution_count": null,
   "metadata": {},
   "outputs": [],
   "source": [
    "s53, c53 = DMSampler(u5, 0.2, start5, 40000, 2000, 0.002, 2)"
   ]
  },
  {
   "cell_type": "code",
   "execution_count": null,
   "metadata": {},
   "outputs": [],
   "source": [
    "idx = np.random.randint(20000-1, size=1000)\n",
    "f53f = DMfinite(u5, s53[idx,:], c53[idx,:], s53[-1,:], 20000)\n",
    "f53 = np.vstack((s53[0:20000-1],f53f))"
   ]
  },
  {
   "cell_type": "code",
   "execution_count": null,
   "metadata": {},
   "outputs": [],
   "source": [
    "s54, c54, sc54 = ScoutMCMC(u5, 0.2, start5, 40000, 2000, 0.002, 2, ssigma = 9)"
   ]
  },
  {
   "cell_type": "code",
   "execution_count": null,
   "metadata": {},
   "outputs": [],
   "source": [
    "idx = np.random.randint(20000-1, size=1000)\n",
    "f54f = Scoutfinite(u5, s54[idx,:], c54[idx,:], s54[-1,:], 20000, ssigma = 9)\n",
    "f54 = np.vstack((s54[0:20000-1],f54f))"
   ]
  },
  {
   "cell_type": "code",
   "execution_count": null,
   "metadata": {},
   "outputs": [],
   "source": [
    "s55 = PTk(u5, start5, 40000, 2000, sigma=1, k=5)"
   ]
  },
  {
   "cell_type": "code",
   "execution_count": null,
   "metadata": {},
   "outputs": [],
   "source": [
    "s56 = PTk(u5, start5, 40000, 2000, sigma=1, k=2)"
   ]
  },
  {
   "cell_type": "code",
   "execution_count": null,
   "metadata": {},
   "outputs": [],
   "source": [
    "print(\"RWM:\", np.mean(s51, axis=0))\n",
    "print(\"Adaptive RWM:\", np.mean(s52, axis=0))\n",
    "print(\"DM Sampler:\", np.mean(s53, axis=0))\n",
    "print(\"DM Finite:\", np.mean(f53, axis=0))\n",
    "print(\"Scout MCMC:\", np.mean(s54, axis=0))\n",
    "print(\"Scout Finite:\", np.mean(f54, axis=0))\n",
    "print(\"Parallel Tempering (5 chains):\", np.mean(s55, axis=0))\n",
    "print(\"Parallel Tempering (2 chains):\", np.mean(s56, axis=0))"
   ]
  },
  {
   "cell_type": "code",
   "execution_count": null,
   "metadata": {},
   "outputs": [],
   "source": [
    "print(\"RWM:\", np.round(np.linalg.norm(np.mean(s51, axis=0)), 2))\n",
    "print(\"Adaptive RWM:\", np.round(np.linalg.norm(np.mean(s52, axis=0)),2))\n",
    "print(\"DM Sampler:\", np.round(np.linalg.norm(np.mean(s53, axis=0)),2))\n",
    "print(\"DM Finite:\", np.round(np.linalg.norm(np.mean(f53, axis=0)),2))\n",
    "print(\"Scout MCMC:\", np.round(np.linalg.norm(np.mean(s54, axis=0)),2))\n",
    "print(\"Scout Finite:\", np.round(np.linalg.norm(np.mean(f54, axis=0)),2))\n",
    "print(\"Parallel Tempering (5 chains):\", np.round(np.linalg.norm(np.mean(s55, axis=0)),2))\n",
    "print(\"Parallel Tempering (2 chains):\", np.round(np.linalg.norm(np.mean(s56, axis=0)),2))"
   ]
  },
  {
   "cell_type": "code",
   "execution_count": null,
   "metadata": {},
   "outputs": [],
   "source": [
    "print(\"RWM:\", esjd(s51))\n",
    "print(\"Adaptive RWM:\", esjd(s52))\n",
    "print(\"DM Sampler:\", esjd(s53))\n",
    "print(\"DM Finite:\", esjd(f53))\n",
    "print(\"Scout MCMC:\", esjd(s54))\n",
    "print(\"Scout Finite:\", esjd(f54))\n",
    "print(\"Parallel Tempering (5 chains):\", esjd(s55))\n",
    "print(\"Parallel Tempering (2 chains):\", esjd(s56))"
   ]
  },
  {
   "cell_type": "code",
   "execution_count": null,
   "metadata": {},
   "outputs": [],
   "source": [
    "np.savez(\"Basis Vector Samples.npz\", s51=s51, s52=s52, s53=s53, f53=f53, s54=f54, f54=f54, s55=s55, s56=s56)"
   ]
  },
  {
   "cell_type": "markdown",
   "metadata": {},
   "source": [
    "### 3D Bananas"
   ]
  },
  {
   "cell_type": "code",
   "execution_count": null,
   "metadata": {},
   "outputs": [],
   "source": [
    "np.random.seed(1234)"
   ]
  },
  {
   "cell_type": "code",
   "execution_count": null,
   "metadata": {},
   "outputs": [],
   "source": [
    "start8 = np.array([np.random.uniform(low=-5, high=5, size=1)[0], \n",
    "                   np.random.uniform(low=-5, high=5, size=1)[0],\n",
    "                   np.random.uniform(low=-5, high=5, size=1)[0]])\n",
    "s81 = RWM(u8, 1, start8, 100000, 1000)"
   ]
  },
  {
   "cell_type": "code",
   "execution_count": null,
   "metadata": {},
   "outputs": [],
   "source": [
    "s82 = aRWM(u8, 0.05, start8, 100000, 1000)"
   ]
  },
  {
   "cell_type": "code",
   "execution_count": null,
   "metadata": {},
   "outputs": [],
   "source": [
    "s83, c83 = DMSampler(u8, 0.2, start8, 100000, 1000, 0.002, 2)"
   ]
  },
  {
   "cell_type": "code",
   "execution_count": null,
   "metadata": {},
   "outputs": [],
   "source": [
    "idx = np.random.randint(50000-1, size=5000)\n",
    "f83f = DMfinite(u8, s83[idx,:], c83[idx,:], s83[-1,:], 50000)\n",
    "f83 = np.vstack((s83[0:50000-1],f83f))"
   ]
  },
  {
   "cell_type": "code",
   "execution_count": null,
   "metadata": {},
   "outputs": [],
   "source": [
    "s84, c84, sc84 = ScoutMCMC(u8, 0.2, start8, 100000, 1000, 0.002, 2, ssigma = 9)"
   ]
  },
  {
   "cell_type": "code",
   "execution_count": null,
   "metadata": {},
   "outputs": [],
   "source": [
    "idx = np.random.randint(50000-1, size=5000)\n",
    "f84f = Scoutfinite(u8, s84[idx,:], c84[idx,:], s84[-1,:], 50000, ssigma = 9)\n",
    "f84 = np.vstack((s84[0:50000-1],f84f))"
   ]
  },
  {
   "cell_type": "code",
   "execution_count": null,
   "metadata": {},
   "outputs": [],
   "source": [
    "s85 = PTk(u8, start8, 100000, 1000, sigma=1, k=5)"
   ]
  },
  {
   "cell_type": "code",
   "execution_count": null,
   "metadata": {},
   "outputs": [],
   "source": [
    "s86 = PTk(u8, start8, 100000, 1000, sigma=1, k=2)"
   ]
  },
  {
   "cell_type": "code",
   "execution_count": null,
   "metadata": {},
   "outputs": [],
   "source": [
    "print(\"RWM:\", np.mean(s81, axis=0))\n",
    "print(\"Adaptive RWM:\", np.mean(s82, axis=0))\n",
    "print(\"DM Sampler:\", np.mean(s83, axis=0))\n",
    "print(\"DM Finite:\", np.mean(f83, axis=0))\n",
    "print(\"Scout MCMC:\", np.mean(s84, axis=0))\n",
    "print(\"Scout Finite:\", np.mean(f84, axis=0))\n",
    "print(\"Parallel Tempering (5 chains):\", np.mean(s85, axis=0))\n",
    "print(\"Parallel Tempering (2 chains):\", np.mean(s86, axis=0))"
   ]
  },
  {
   "cell_type": "code",
   "execution_count": null,
   "metadata": {},
   "outputs": [],
   "source": [
    "print(\"RWM:\", np.mean(np.square(s81), axis=0))\n",
    "print(\"Adaptive RWM:\", np.mean(np.square(s82), axis=0))\n",
    "print(\"DM Sampler:\", np.mean(np.square(s83), axis=0))\n",
    "print(\"DM Finite:\", np.mean(np.square(f83), axis=0))\n",
    "print(\"Scout MCMC:\", np.mean(np.square(s84), axis=0))\n",
    "print(\"Scout Finite:\", np.mean(np.square(f84), axis=0))\n",
    "print(\"Parallel Tempering (5 chains):\", np.mean(np.square(s85), axis=0))\n",
    "print(\"Parallel Tempering (2 chains):\", np.mean(np.square(s86), axis=0))"
   ]
  },
  {
   "cell_type": "code",
   "execution_count": null,
   "metadata": {},
   "outputs": [],
   "source": [
    "print(\"RWM:\", np.round(np.linalg.norm(np.mean(s81, axis=0)), 2))\n",
    "print(\"Adaptive RWM:\", np.round(np.linalg.norm(np.mean(s82, axis=0)),2))\n",
    "print(\"DM Sampler:\", np.round(np.linalg.norm(np.mean(s83, axis=0)),2))\n",
    "print(\"DM Finite:\", np.round(np.linalg.norm(np.mean(f83, axis=0)),2))\n",
    "print(\"Scout MCMC:\", np.round(np.linalg.norm(np.mean(s84, axis=0)),2))\n",
    "print(\"Scout Finite:\", np.round(np.linalg.norm(np.mean(f84, axis=0)),2))\n",
    "print(\"Parallel Tempering (5 chains):\", np.round(np.linalg.norm(np.mean(s85, axis=0)),2))\n",
    "print(\"Parallel Tempering (2 chains):\", np.round(np.linalg.norm(np.mean(s86, axis=0)),2))"
   ]
  },
  {
   "cell_type": "code",
   "execution_count": null,
   "metadata": {},
   "outputs": [],
   "source": [
    "print(\"RWM:\", np.round(np.linalg.norm(np.mean(np.square(s81), axis=0)-np.array([400,400,400])),1))\n",
    "print(\"Adaptive RWM:\", np.round(np.linalg.norm(np.mean(np.square(s82), axis=0)-np.array([400,400,400])),1))\n",
    "print(\"DM Sampler:\", np.round(np.linalg.norm(np.mean(np.square(s83), axis=0)-np.array([400,400,400])),1))\n",
    "print(\"DM Finite:\", np.round(np.linalg.norm(np.mean(np.square(f83), axis=0)-np.array([400,400,400])),1))\n",
    "print(\"Scout MCMC:\", np.round(np.linalg.norm(np.mean(np.square(s84), axis=0)-np.array([400,400,400])),1))\n",
    "print(\"Scout Finite:\", np.round(np.linalg.norm(np.mean(np.square(f84), axis=0)-np.array([400,400,400])),1))\n",
    "print(\"Parallel Tempering (5 chains):\", np.round(np.linalg.norm(np.mean(np.square(s85), axis=0)-np.array([400,400,400])),1))\n",
    "print(\"Parallel Tempering (2 chains):\", np.round(np.linalg.norm(np.mean(np.square(s86), axis=0)-np.array([400,400,400])),1))"
   ]
  },
  {
   "cell_type": "code",
   "execution_count": null,
   "metadata": {},
   "outputs": [],
   "source": [
    "print(\"RWM:\", np.round(esjd(s81),2))\n",
    "print(\"Adaptive RWM:\", np.round(esjd(s82),2))\n",
    "print(\"DM Sampler:\", np.round(esjd(s83),2))\n",
    "print(\"DM Finite:\", np.round(esjd(f83),2))\n",
    "print(\"Scout MCMC:\", np.round(esjd(s84),2))\n",
    "print(\"Scout Finite:\", np.round(esjd(f84),2))\n",
    "print(\"Parallel Tempering (5 chains):\", np.round(esjd(s85),2))\n",
    "print(\"Parallel Tempering (2 chains):\", np.round(esjd(s86),2))"
   ]
  },
  {
   "cell_type": "code",
   "execution_count": null,
   "metadata": {},
   "outputs": [],
   "source": [
    "np.savez(\"3D Banana Samples.npz\", s81=s81, s82=s82, s83=s83, f83=f83, s84=f84, f84=f84, s85=s85, s86=s86)"
   ]
  },
  {
   "cell_type": "code",
   "execution_count": null,
   "metadata": {},
   "outputs": [],
   "source": []
  },
  {
   "cell_type": "markdown",
   "metadata": {},
   "source": [
    "## Additional Plots and Diagnostics"
   ]
  },
  {
   "cell_type": "markdown",
   "metadata": {},
   "source": [
    "## Single Banana"
   ]
  },
  {
   "cell_type": "code",
   "execution_count": null,
   "metadata": {},
   "outputs": [],
   "source": [
    "xvals = np.linspace(-10, 10, 1000)\n",
    "yvals = np.linspace(-50, 10, 1000)\n",
    "X, Y = np.meshgrid(xvals, yvals)\n",
    "Z = u3(np.dstack((X,Y)).reshape((1000*1000,2))).reshape((1000,1000))\n",
    "\n",
    "fig = plt.figure()\n",
    "ax = plt.subplot()\n",
    "ax.contour(X, Y, Z, colors='black', linewidths = [0,1.5,1.5,1.5,1.5,1.5,1.5])\n",
    "L = ss.multivariate_normal.pdf(np.dstack((X,Y)), s32[19998,:], \n",
    "                               np.array([23.24766346, 3.40172153, 3.40172153, 331.29615529]).reshape((2,2)))\n",
    "ax.contour(X, Y, L)\n",
    "ax.scatter(s32[19998,0], s32[19998,1], color=\"red\", zorder=2, s=3)\n",
    "ax.set_title(\"\")\n",
    "plt.show()"
   ]
  },
  {
   "cell_type": "code",
   "execution_count": null,
   "metadata": {},
   "outputs": [],
   "source": [
    "i=9000\n",
    "xvals = np.linspace(-10, 10, 1000)\n",
    "yvals = np.linspace(-50, 10, 1000)\n",
    "X, Y = np.meshgrid(xvals, yvals)\n",
    "Z = u3(np.dstack((X,Y)).reshape((1000*1000,2))).reshape((1000,1000))\n",
    "\n",
    "fig = plt.figure()\n",
    "ax = plt.subplot()\n",
    "ax.contour(X, Y, Z, colors='black', linewidths = [0,1.5,1.5,1.5,1.5,1.5,1.5])\n",
    "L = ss.multivariate_normal.pdf(np.dstack((X,Y)), s33[i,:], c33[i,:,:])\n",
    "ax.contour(X, Y, L, linewidths = [0,1.5,1.5,1.5,1.5,1.5,1.5])\n",
    "ax.scatter(s33[i,0], s33[i,1], color=\"red\", zorder=2, s=3)\n",
    "ax.set_title(\"\")\n",
    "plt.show()"
   ]
  },
  {
   "cell_type": "code",
   "execution_count": null,
   "metadata": {},
   "outputs": [],
   "source": [
    "i=14300\n",
    "xvals = np.linspace(-10, 10, 1000)\n",
    "yvals = np.linspace(-50, 10, 1000)\n",
    "X, Y = np.meshgrid(xvals, yvals)\n",
    "Z = u3(np.dstack((X,Y)).reshape((1000*1000,2))).reshape((1000,1000))\n",
    "\n",
    "fig = plt.figure()\n",
    "ax = plt.subplot()\n",
    "ax.contour(X, Y, Z, colors='black', linewidths = [0,1.5,1.5,1.5,1.5,1.5,1.5])\n",
    "L = ss.multivariate_normal.pdf(np.dstack((X,Y)), s33[i,:], c33[i,:,:])\n",
    "ax.contour(X, Y, L, linewidths = [0,1.5,1.5,1.5,1.5,1.5,1.5])\n",
    "ax.scatter(s33[i,0], s33[i,1], color=\"red\", zorder=2, s=3)\n",
    "ax.set_title(\"\")\n",
    "plt.show()"
   ]
  },
  {
   "cell_type": "markdown",
   "metadata": {},
   "source": [
    "## Double Banana"
   ]
  },
  {
   "cell_type": "code",
   "execution_count": null,
   "metadata": {},
   "outputs": [],
   "source": [
    "print(\"RWM:\", np.round(np.mean(s41, axis=0),2))\n",
    "print(\"Adaptive RWM:\", np.round(np.mean(s42, axis=0),3))\n",
    "print(\"DM Sampler:\", np.round(np.mean(s43, axis=0),2))\n",
    "print(\"DM Finite:\", np.round(np.mean(f43, axis=0),2))\n",
    "print(\"Scout MCMC:\", np.round(np.mean(s44, axis=0),2))\n",
    "print(\"Scout Finite:\", np.round(np.mean(f44, axis=0),2))\n",
    "print(\"Parallel Tempering (5 chains):\", np.round(np.mean(s45, axis=0),2))\n",
    "print(\"Parallel Tempering (2 chains):\", np.round(np.mean(s46, axis=0),2))"
   ]
  },
  {
   "cell_type": "code",
   "execution_count": null,
   "metadata": {},
   "outputs": [],
   "source": [
    "print(\"RWM:\", np.round(np.linalg.norm(np.mean(s41, axis=0) - np.array([0, -25])),2))\n",
    "print(\"Adaptive RWM:\", np.round(np.linalg.norm(np.mean(s42, axis=0) - np.array([0, -25])),2))\n",
    "print(\"DM Sampler:\", np.round(np.linalg.norm(np.mean(s43, axis=0) - np.array([0, -25])),2))\n",
    "print(\"DM Finite:\", np.round(np.linalg.norm(np.mean(f43, axis=0) - np.array([0, -25])),2))\n",
    "print(\"Scout MCMC:\", np.round(np.linalg.norm(np.mean(s44, axis=0) - np.array([0, -25])),2))\n",
    "print(\"Scout Finite:\", np.round(np.linalg.norm(np.mean(f44, axis=0) - np.array([0, -25])),2))\n",
    "print(\"Parallel Tempering (5 chains):\", np.round(np.linalg.norm(np.mean(s45, axis=0) - np.array([0, -25])),2))\n",
    "print(\"Parallel Tempering (2 chains):\", np.round(np.linalg.norm(np.mean(s46, axis=0) - np.array([0, -25])),2))"
   ]
  },
  {
   "cell_type": "markdown",
   "metadata": {},
   "source": [
    "## 4D Basis Vectors"
   ]
  },
  {
   "cell_type": "code",
   "execution_count": null,
   "metadata": {},
   "outputs": [],
   "source": [
    "print(\"RWM:\", np.round(np.mean(s51, axis=0), 2))\n",
    "print(\"Adaptive RWM:\", np.round(np.mean(s52, axis=0),2))\n",
    "print(\"DM Sampler:\", np.round(np.mean(s53, axis=0),2))\n",
    "print(\"DM Finite:\", np.round(np.mean(f53, axis=0),2))\n",
    "print(\"Scout MCMC:\", np.round(np.mean(s54, axis=0),2))\n",
    "print(\"Scout Finite:\", np.round(np.mean(f54, axis=0),2))\n",
    "print(\"Parallel Tempering (4 chains):\", np.round(np.mean(s55, axis=0),2))"
   ]
  },
  {
   "cell_type": "code",
   "execution_count": null,
   "metadata": {},
   "outputs": [],
   "source": [
    "print(\"RWM:\", np.round(np.linalg.norm(np.mean(s51, axis=0)), 2))\n",
    "print(\"Adaptive RWM:\", np.round(np.linalg.norm(np.mean(s52, axis=0)),2))\n",
    "print(\"DM Sampler:\", np.round(np.linalg.norm(np.mean(s53, axis=0)),2))\n",
    "print(\"DM Finite:\", np.round(np.linalg.norm(np.mean(f53, axis=0)),2))\n",
    "print(\"Scout MCMC:\", np.round(np.linalg.norm(np.mean(s54, axis=0)),2))\n",
    "print(\"Scout Finite:\", np.round(np.linalg.norm(np.mean(f54, axis=0)),2))\n",
    "print(\"Parallel Tempering (4 chains):\", np.round(np.linalg.norm(np.mean(s55, axis=0)),2))"
   ]
  },
  {
   "cell_type": "code",
   "execution_count": null,
   "metadata": {},
   "outputs": [],
   "source": [
    "fig, axs = plt.subplots(2,2)\n",
    "fig.suptitle('')\n",
    "axs[0,0].plot(s54[:,0])\n",
    "axs[0,1].plot(s54[:,1])\n",
    "axs[1,0].plot(s54[:,2])\n",
    "axs[1,1].plot(s54[:,3])"
   ]
  },
  {
   "cell_type": "code",
   "execution_count": null,
   "metadata": {},
   "outputs": [],
   "source": [
    "fig, axs = plt.subplots(2,2)\n",
    "fig.suptitle('')\n",
    "axs[0,0].plot(s55[:,0])\n",
    "axs[0,1].plot(s55[:,1])\n",
    "axs[1,0].plot(s55[:,2])\n",
    "axs[1,1].plot(s55[:,3])"
   ]
  },
  {
   "cell_type": "markdown",
   "metadata": {},
   "source": [
    "## Additional Figures"
   ]
  },
  {
   "cell_type": "markdown",
   "metadata": {},
   "source": [
    "## Banana Bunch"
   ]
  },
  {
   "cell_type": "code",
   "execution_count": null,
   "metadata": {},
   "outputs": [],
   "source": [
    "plotsamples([-60,60],[-60,60], u7, np.empty((0,2)), np.array([0,0]), \"Plus Projection Contours\", lin=1000)"
   ]
  },
  {
   "cell_type": "code",
   "execution_count": null,
   "metadata": {},
   "outputs": [],
   "source": [
    "samples = np.random.multivariate_normal(mean=[40,0,0], cov=np.diag([4,9,4]), size=20000)\n",
    "snew1 = samples[:,0] - 1*samples[:,1]**2 + 1\n",
    "samples1 = np.hstack((snew1.reshape(-1,1), samples[:,1].reshape(-1,1), samples[:,2].reshape(-1,1)))\n",
    "samples = np.random.multivariate_normal(mean=[40,0,0], cov=np.diag([4,4,9]), size=20000)\n",
    "snew2 = samples[:,0] - 1*samples[:,2]**2 + 1\n",
    "samples2 = np.hstack((snew2.reshape(-1,1), samples[:,1].reshape(-1,1), samples[:,2].reshape(-1,1)))\n",
    "samples = np.random.multivariate_normal(mean=[-40,0,0], cov=np.diag([4,9,4]), size=20000)\n",
    "snew3 = samples[:,0] + 1*samples[:,1]**2 - 1\n",
    "samples3 = np.hstack((snew3.reshape(-1,1), samples[:,1].reshape(-1,1), samples[:,2].reshape(-1,1)))\n",
    "samples = np.random.multivariate_normal(mean=[-40,0,0], cov=np.diag([4,4,9]), size=20000)\n",
    "snew4 = samples[:,0] + 1*samples[:,2]**2 - 1\n",
    "samples4 = np.hstack((snew4.reshape(-1,1), samples[:,1].reshape(-1,1), samples[:,2].reshape(-1,1)))\n",
    "\n",
    "samples = np.random.multivariate_normal(mean=[0,40,0], cov=np.diag([9,4,4]), size=20000)\n",
    "snew5 = samples[:,1] - 1*samples[:,0]**2 + 1\n",
    "samples5 = np.hstack((samples[:,0].reshape(-1,1), snew5.reshape(-1,1), samples[:,2].reshape(-1,1)))\n",
    "samples = np.random.multivariate_normal(mean=[0,40,0], cov=np.diag([4,4,9]), size=20000)\n",
    "snew6 = samples[:,1] - 1*samples[:,2]**2 + 1\n",
    "samples6 = np.hstack((samples[:,0].reshape(-1,1), snew6.reshape(-1,1), samples[:,2].reshape(-1,1)))\n",
    "samples = np.random.multivariate_normal(mean=[0,-40,0], cov=np.diag([9,4,4]), size=20000)\n",
    "snew7 = samples[:,1] + 1*samples[:,0]**2 - 1\n",
    "samples7 = np.hstack((samples[:,0].reshape(-1,1), snew7.reshape(-1,1), samples[:,2].reshape(-1,1)))\n",
    "samples = np.random.multivariate_normal(mean=[0,-40,0], cov=np.diag([4,4,9]), size=20000)\n",
    "snew8 = samples[:,1] + 1*samples[:,2]**2 - 1\n",
    "samples8 = np.hstack((samples[:,0].reshape(-1,1), snew8.reshape(-1,1), samples[:,2].reshape(-1,1)))\n",
    "\n",
    "samples = np.random.multivariate_normal(mean=[0,0,40], cov=np.diag([9,4,4]), size=20000)\n",
    "snew9 = samples[:,2] - 1*samples[:,0]**2 + 1\n",
    "samples9 = np.hstack((samples[:,0].reshape(-1,1), samples[:,1].reshape(-1,1), snew9.reshape(-1,1)))\n",
    "samples = np.random.multivariate_normal(mean=[0,0,40], cov=np.diag([4,9,4]), size=20000)\n",
    "snew10 = samples[:,2] - 1*samples[:,1]**2 + 1\n",
    "samples10 = np.hstack((samples[:,0].reshape(-1,1), samples[:,1].reshape(-1,1), snew10.reshape(-1,1)))\n",
    "samples = np.random.multivariate_normal(mean=[0,0,-40], cov=np.diag([9,4,4]), size=20000)\n",
    "snew11 = samples[:,2] + 1*samples[:,0]**2 - 1\n",
    "samples11 = np.hstack((samples[:,0].reshape(-1,1), samples[:,1].reshape(-1,1), snew11.reshape(-1,1)))\n",
    "samples = np.random.multivariate_normal(mean=[0,0,-40], cov=np.diag([4,9,4]), size=20000)\n",
    "snew12 = samples[:,2] + 1*samples[:,1]**2 - 1\n",
    "samples12 = np.hstack((samples[:,0].reshape(-1,1), samples[:,1].reshape(-1,1), snew12.reshape(-1,1)))\n",
    "\n",
    "samples = np.vstack((samples1, samples2, samples3, samples4, samples5, samples6, samples7, samples8, \n",
    "                     samples9, samples10, samples11, samples12))\n",
    "fig, axs = plt.subplots(1, 3)\n",
    "fig.suptitle('True Banana Bunch Samples')\n",
    "axs[0].scatter(samples[:,0], samples[:,1], alpha = 0.01, s=1)\n",
    "axs[0].set_xlim((-60,60))\n",
    "axs[0].set_ylim((-60,60))\n",
    "axs[1].scatter(samples[:,0], samples[:,2], alpha = 0.01, s=1)\n",
    "axs[1].set_xlim((-60,60))\n",
    "axs[1].set_ylim((-60,60))\n",
    "axs[2].scatter(samples[:,1], samples[:,2], alpha = 0.01, s=1)\n",
    "axs[2].set_xlim((-60,60))\n",
    "axs[2].set_ylim((-60,60))"
   ]
  },
  {
   "cell_type": "code",
   "execution_count": null,
   "metadata": {},
   "outputs": [],
   "source": [
    "fig, axs = plt.subplots(3)\n",
    "fig.suptitle('RWM Trace Plots (3D Bananas)')\n",
    "axs[0].plot(s81[:,0])\n",
    "axs[1].plot(s81[:,1])\n",
    "axs[2].plot(s81[:,2])"
   ]
  },
  {
   "cell_type": "code",
   "execution_count": null,
   "metadata": {},
   "outputs": [],
   "source": [
    "fig, axs = plt.subplots(3)\n",
    "fig.suptitle('aRWM Trace Plots (3D Bananas)')\n",
    "axs[0].plot(s82[:,0])\n",
    "axs[1].plot(s82[:,1])\n",
    "axs[2].plot(s82[:,2])"
   ]
  },
  {
   "cell_type": "code",
   "execution_count": null,
   "metadata": {},
   "outputs": [],
   "source": [
    "fig, axs = plt.subplots(3)\n",
    "fig.suptitle('DM Trace Plots (3D Bananas)')\n",
    "axs[0].plot(s83[:,0])\n",
    "axs[1].plot(s83[:,1])\n",
    "axs[2].plot(s83[:,2])"
   ]
  },
  {
   "cell_type": "code",
   "execution_count": null,
   "metadata": {},
   "outputs": [],
   "source": [
    "fig, axs = plt.subplots(3)\n",
    "fig.suptitle('DM Finite Trace Plots (3D Bananas)')\n",
    "axs[0].plot(f83[:,0])\n",
    "axs[1].plot(f83[:,1])\n",
    "axs[2].plot(f83[:,2])"
   ]
  },
  {
   "cell_type": "code",
   "execution_count": null,
   "metadata": {},
   "outputs": [],
   "source": [
    "fig, axs = plt.subplots(3)\n",
    "fig.suptitle('Scout Trace Plots (3D Bananas)')\n",
    "axs[0].plot(s84[:,0])\n",
    "axs[1].plot(s84[:,1])\n",
    "axs[2].plot(s84[:,2])"
   ]
  },
  {
   "cell_type": "code",
   "execution_count": null,
   "metadata": {},
   "outputs": [],
   "source": [
    "fig, axs = plt.subplots(3)\n",
    "fig.suptitle('Scout Finite Trace Plots (3D Bananas)')\n",
    "axs[0].plot(f84[:,0])\n",
    "axs[1].plot(f84[:,1])\n",
    "axs[2].plot(f84[:,2])"
   ]
  },
  {
   "cell_type": "code",
   "execution_count": null,
   "metadata": {},
   "outputs": [],
   "source": [
    "fig, axs = plt.subplots(3)\n",
    "fig.suptitle('PT (5 chains) Trace Plots (3D Bananas)')\n",
    "axs[0].plot(s85[:,0])\n",
    "axs[1].plot(s85[:,1])\n",
    "axs[2].plot(s85[:,2])"
   ]
  },
  {
   "cell_type": "code",
   "execution_count": null,
   "metadata": {},
   "outputs": [],
   "source": [
    "fig, axs = plt.subplots(1, 3)\n",
    "fig.suptitle('RWM Scatter Plots (3D Bananas)')\n",
    "axs[0].scatter(s81[:,0], s81[:,1], alpha = 0.01, s=1)\n",
    "axs[1].scatter(s81[:,0], s81[:,2], alpha = 0.01, s=1)\n",
    "axs[2].scatter(s81[:,1], s81[:,2], alpha = 0.01, s=1)"
   ]
  },
  {
   "cell_type": "code",
   "execution_count": null,
   "metadata": {},
   "outputs": [],
   "source": [
    "fig, axs = plt.subplots(1, 3)\n",
    "fig.suptitle('aRWM Scatter Plots (3D Bananas)')\n",
    "axs[0].scatter(s82[:,0], s82[:,1], alpha = 0.01, s=1)\n",
    "axs[1].scatter(s82[:,0], s82[:,2], alpha = 0.01, s=1)\n",
    "axs[2].scatter(s82[:,1], s82[:,2], alpha = 0.01, s=1)\n",
    "axs[0].set_xlim((-60,60))\n",
    "axs[0].set_ylim((-60,60))\n",
    "axs[1].set_xlim((-60,60))\n",
    "axs[1].set_ylim((-60,60))\n",
    "axs[2].set_xlim((-60,60))\n",
    "axs[2].set_ylim((-60,60))"
   ]
  },
  {
   "cell_type": "code",
   "execution_count": null,
   "metadata": {},
   "outputs": [],
   "source": [
    "fig, axs = plt.subplots(1, 3)\n",
    "fig.suptitle('DM Scatter Plots (3D Bananas)')\n",
    "axs[0].scatter(s83[:,0], s83[:,1], alpha = 0.01, s=1)\n",
    "axs[1].scatter(s83[:,0], s83[:,2], alpha = 0.01, s=1)\n",
    "axs[2].scatter(s83[:,1], s83[:,2], alpha = 0.01, s=1)"
   ]
  },
  {
   "cell_type": "code",
   "execution_count": null,
   "metadata": {},
   "outputs": [],
   "source": [
    "fig, axs = plt.subplots(1, 3)\n",
    "fig.suptitle('DM Finite Scatter Plots (3D Bananas)')\n",
    "axs[0].scatter(f83[:,0], f83[:,1], alpha = 0.01, s=1)\n",
    "axs[1].scatter(f83[:,0], f83[:,2], alpha = 0.01, s=1)\n",
    "axs[2].scatter(f83[:,1], f83[:,2], alpha = 0.01, s=1)"
   ]
  },
  {
   "cell_type": "code",
   "execution_count": null,
   "metadata": {},
   "outputs": [],
   "source": [
    "fig, axs = plt.subplots(1, 3)\n",
    "fig.suptitle('Scout MCMC Scatter Plots (3D Bananas)')\n",
    "axs[0].scatter(s84[:,0], s84[:,1], alpha = 0.01, s=1)\n",
    "axs[1].scatter(s84[:,0], s84[:,2], alpha = 0.01, s=1)\n",
    "axs[2].scatter(s84[:,1], s84[:,2], alpha = 0.01, s=1)\n",
    "axs[0].set_xlim((-60,60))\n",
    "axs[0].set_ylim((-60,60))\n",
    "axs[1].set_xlim((-60,60))\n",
    "axs[1].set_ylim((-60,60))\n",
    "axs[2].set_xlim((-60,60))\n",
    "axs[2].set_ylim((-60,60))"
   ]
  },
  {
   "cell_type": "code",
   "execution_count": null,
   "metadata": {},
   "outputs": [],
   "source": [
    "fig, axs = plt.subplots(1, 3)\n",
    "fig.suptitle('Scout Finite Scatter Plots (3D Bananas)')\n",
    "axs[0].scatter(f84[:,0], f84[:,1], alpha = 0.01, s=1)\n",
    "axs[1].scatter(f84[:,0], f84[:,2], alpha = 0.01, s=1)\n",
    "axs[2].scatter(f84[:,1], f84[:,2], alpha = 0.01, s=1)\n",
    "axs[0].set_xlim((-60,60))\n",
    "axs[0].set_ylim((-60,60))\n",
    "axs[1].set_xlim((-60,60))\n",
    "axs[1].set_ylim((-60,60))\n",
    "axs[2].set_xlim((-60,60))\n",
    "axs[2].set_ylim((-60,60))"
   ]
  },
  {
   "cell_type": "code",
   "execution_count": null,
   "metadata": {
    "scrolled": true
   },
   "outputs": [],
   "source": [
    "fig, axs = plt.subplots(1, 3)\n",
    "fig.suptitle('Parallel Tempering Scatter Plots (3D Bananas)')\n",
    "axs[0].scatter(s85[:,0], s85[:,1], alpha = 0.01, s=1)\n",
    "axs[1].scatter(s85[:,0], s85[:,2], alpha = 0.01, s=1)\n",
    "axs[2].scatter(s85[:,1], s85[:,2], alpha = 0.01, s=1)\n",
    "axs[0].set_xlim((-60,60))\n",
    "axs[0].set_ylim((-60,60))\n",
    "axs[1].set_xlim((-60,60))\n",
    "axs[1].set_ylim((-60,60))\n",
    "axs[2].set_xlim((-60,60))\n",
    "axs[2].set_ylim((-60,60))"
   ]
  },
  {
   "cell_type": "code",
   "execution_count": null,
   "metadata": {},
   "outputs": [],
   "source": [
    "print(\"RWM:\", np.round(np.mean(s81, axis=0),1))\n",
    "print(\"Adaptive RWM:\", np.round(np.mean(s82, axis=0),1))\n",
    "print(\"DM Sampler:\", np.round(np.mean(s83, axis=0),1))\n",
    "print(\"DM Finite:\", np.round(np.mean(f83, axis=0),1))\n",
    "print(\"Scout MCMC:\", np.round(np.mean(s84, axis=0),1))\n",
    "print(\"Scout Finite:\", np.round(np.mean(f84, axis=0),1))\n",
    "print(\"Parallel Tempering (5 chains):\", np.round(np.mean(s85, axis=0),1))\n",
    "print(\"Parallel Tempering (2 chains):\", np.round(np.mean(s86, axis=0),1))"
   ]
  },
  {
   "cell_type": "code",
   "execution_count": null,
   "metadata": {},
   "outputs": [],
   "source": [
    "print(\"RWM:\", np.round(np.linalg.norm(np.mean(s81, axis=0)), 2))\n",
    "print(\"Adaptive RWM:\", np.round(np.linalg.norm(np.mean(s82, axis=0)),2))\n",
    "print(\"DM Sampler:\", np.round(np.linalg.norm(np.mean(s83, axis=0)),2))\n",
    "print(\"DM Finite:\", np.round(np.linalg.norm(np.mean(f83, axis=0)),2))\n",
    "print(\"Scout MCMC:\", np.round(np.linalg.norm(np.mean(s84, axis=0)),2))\n",
    "print(\"Scout Finite:\", np.round(np.linalg.norm(np.mean(f84, axis=0)),2))\n",
    "print(\"Parallel Tempering (5 chains):\", np.round(np.linalg.norm(np.mean(s85, axis=0)),2))\n",
    "print(\"Parallel Tempering (2 chains):\", np.round(np.linalg.norm(np.mean(s86, axis=0)),2))"
   ]
  },
  {
   "cell_type": "code",
   "execution_count": null,
   "metadata": {},
   "outputs": [],
   "source": [
    "print(\"RWM:\", np.round(np.linalg.norm(np.mean(np.square(s81), axis=0)-np.array([400,400,400])),1))\n",
    "print(\"Adaptive RWM:\", np.round(np.linalg.norm(np.mean(np.square(s82), axis=0)-np.array([400,400,400])),1))\n",
    "print(\"DM Sampler:\", np.round(np.linalg.norm(np.mean(np.square(s83), axis=0)-np.array([400,400,400])),1))\n",
    "print(\"DM Finite:\", np.round(np.linalg.norm(np.mean(np.square(f83), axis=0)-np.array([400,400,400])),1))\n",
    "print(\"Scout MCMC:\", np.round(np.linalg.norm(np.mean(np.square(s84), axis=0)-np.array([400,400,400])),1))\n",
    "print(\"Scout Finite:\", np.round(np.linalg.norm(np.mean(np.square(f84), axis=0)-np.array([400,400,400])),1))\n",
    "print(\"Parallel Tempering (5 chains):\", np.round(np.linalg.norm(np.mean(np.square(s85), axis=0)-np.array([400,400,400])),1))\n",
    "print(\"Parallel Tempering (2 chains):\", np.round(np.linalg.norm(np.mean(np.square(s86), axis=0)-np.array([400,400,400])),1))"
   ]
  },
  {
   "cell_type": "code",
   "execution_count": null,
   "metadata": {},
   "outputs": [],
   "source": []
  }
 ],
 "metadata": {
  "kernelspec": {
   "display_name": "Python 3",
   "language": "python",
   "name": "python3"
  },
  "language_info": {
   "codemirror_mode": {
    "name": "ipython",
    "version": 3
   },
   "file_extension": ".py",
   "mimetype": "text/x-python",
   "name": "python",
   "nbconvert_exporter": "python",
   "pygments_lexer": "ipython3",
   "version": "3.7.6"
  }
 },
 "nbformat": 4,
 "nbformat_minor": 4
}
